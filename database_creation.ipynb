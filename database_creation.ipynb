{
 "cells": [
  {
   "cell_type": "code",
   "execution_count": 4,
   "metadata": {},
   "outputs": [],
   "source": [
    "import DatabaseHandler as dbh\n",
    "import sqlite3\n",
    "import csv, math\n",
    "from datetime import datetime"
   ]
  },
  {
   "cell_type": "code",
   "execution_count": 5,
   "metadata": {},
   "outputs": [],
   "source": [
    "db_path = r\"/Users/Bar/Desktop/hackZurich_2023/hack23/db/hack23_db.db\"\n",
    "conn = sqlite3.connect(db_path)\n",
    "cursor = conn.cursor()"
   ]
  },
  {
   "cell_type": "code",
   "execution_count": 9,
   "metadata": {},
   "outputs": [],
   "source": [
    "table_1 = \"routes\"\n",
    "table_2 = \"distances\"\n",
    "table_3 = \"locations\"\n",
    "\n",
    "cursor.execute(f\"CREATE TABLE IF NOT EXISTS {table_1} ( \\\n",
    "    id INTEGER PRIMARY KEY AUTOINCREMENT NOT NULL, \\\n",
    "    id_starting_point DOUBLE, \\\n",
    "    id_ending_point DOUBLE, \\\n",
    "    delivery_start_date DATE, \\\n",
    "    delivery_end_date DATE, \\\n",
    "    distance DOUBLE, \\\n",
    "    company VARCHAR(255), \\\n",
    "    is_deleted BOOLEAN \\\n",
    "    )\")\n",
    "\n",
    "cursor.execute(f\"CREATE TABLE IF NOT EXISTS {table_2} ( \\\n",
    "    id INTEGER PRIMARY KEY AUTOINCREMENT NOT NULL, \\\n",
    "    id_point_a INT, \\\n",
    "    id_point_b INT, \\\n",
    "    distance DOUBLE, \\\n",
    "    UNIQUE (id_point_a, id_point_b) \\\n",
    "    )\")\n",
    "cursor.execute(f\"CREATE TABLE IF NOT EXISTS {table_3} ( \\\n",
    "    id INTEGER PRIMARY KEY AUTOINCREMENT NOT NULL, \\\n",
    "    lon DOUBLE, \\\n",
    "    lat DOUBLE, \\\n",
    "    UNIQUE (lon, lat)\\\n",
    "    )\")\n",
    "\n",
    "conn.commit()"
   ]
  }
 ],
 "metadata": {
  "kernelspec": {
   "display_name": "holcin",
   "language": "python",
   "name": "python3"
  },
  "language_info": {
   "codemirror_mode": {
    "name": "ipython",
    "version": 3
   },
   "file_extension": ".py",
   "mimetype": "text/x-python",
   "name": "python",
   "nbconvert_exporter": "python",
   "pygments_lexer": "ipython3",
   "version": "3.8.9"
  },
  "orig_nbformat": 4
 },
 "nbformat": 4,
 "nbformat_minor": 2
}
